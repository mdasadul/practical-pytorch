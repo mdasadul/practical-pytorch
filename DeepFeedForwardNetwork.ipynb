{
  "nbformat": 4,
  "nbformat_minor": 0,
  "metadata": {
    "colab": {
      "name": "DeepFeedForward.ipynb",
      "version": "0.3.2",
      "provenance": [],
      "collapsed_sections": [],
      "include_colab_link": true
    },
    "kernelspec": {
      "name": "python3",
      "display_name": "Python 3"
    },
    "accelerator": "GPU"
  },
  "cells": [
    {
      "cell_type": "markdown",
      "metadata": {
        "id": "view-in-github",
        "colab_type": "text"
      },
      "source": [
        "<a href=\"https://colab.research.google.com/github/mdasadul/practical-pytorch/blob/master/DeepFeedForwardNetwork.ipynb\" target=\"_parent\"><img src=\"https://colab.research.google.com/assets/colab-badge.svg\" alt=\"Open In Colab\"/></a>"
      ]
    },
    {
      "metadata": {
        "id": "CalF4gWG60LA",
        "colab_type": "code",
        "colab": {
          "base_uri": "https://localhost:8080/",
          "height": 326
        },
        "outputId": "97fd50f5-fd01-456d-a1e0-34aa9cedd961"
      },
      "cell_type": "code",
      "source": [
        "!pip install torch torchvision"
      ],
      "execution_count": 1,
      "outputs": [
        {
          "output_type": "stream",
          "text": [
            "Collecting torch\n",
            "\u001b[?25l  Downloading https://files.pythonhosted.org/packages/49/0e/e382bcf1a6ae8225f50b99cc26effa2d4cc6d66975ccf3fa9590efcbedce/torch-0.4.1-cp36-cp36m-manylinux1_x86_64.whl (519.5MB)\n",
            "\u001b[K    100% |████████████████████████████████| 519.5MB 31kB/s \n",
            "tcmalloc: large alloc 1073750016 bytes == 0x59534000 @  0x7f57b284e2a4 0x594e17 0x626104 0x51190a 0x4f5277 0x510c78 0x5119bd 0x4f5277 0x4f3338 0x510fb0 0x5119bd 0x4f5277 0x4f3338 0x510fb0 0x5119bd 0x4f5277 0x4f3338 0x510fb0 0x5119bd 0x4f6070 0x510c78 0x5119bd 0x4f5277 0x4f3338 0x510fb0 0x5119bd 0x4f6070 0x4f3338 0x510fb0 0x5119bd 0x4f6070\n",
            "\u001b[?25hCollecting torchvision\n",
            "\u001b[?25l  Downloading https://files.pythonhosted.org/packages/ca/0d/f00b2885711e08bd71242ebe7b96561e6f6d01fdb4b9dcf4d37e2e13c5e1/torchvision-0.2.1-py2.py3-none-any.whl (54kB)\n",
            "\u001b[K    100% |████████████████████████████████| 61kB 14.8MB/s \n",
            "\u001b[?25hRequirement already satisfied: numpy in /usr/local/lib/python3.6/dist-packages (from torchvision) (1.14.6)\n",
            "Collecting pillow>=4.1.1 (from torchvision)\n",
            "\u001b[?25l  Downloading https://files.pythonhosted.org/packages/62/94/5430ebaa83f91cc7a9f687ff5238e26164a779cca2ef9903232268b0a318/Pillow-5.3.0-cp36-cp36m-manylinux1_x86_64.whl (2.0MB)\n",
            "\u001b[K    100% |████████████████████████████████| 2.0MB 4.4MB/s \n",
            "\u001b[?25hRequirement already satisfied: six in /usr/local/lib/python3.6/dist-packages (from torchvision) (1.11.0)\n",
            "Installing collected packages: torch, pillow, torchvision\n",
            "  Found existing installation: Pillow 4.0.0\n",
            "    Uninstalling Pillow-4.0.0:\n",
            "      Successfully uninstalled Pillow-4.0.0\n",
            "Successfully installed pillow-5.3.0 torch-0.4.1 torchvision-0.2.1\n"
          ],
          "name": "stdout"
        }
      ]
    },
    {
      "metadata": {
        "id": "pwqMXi2I63vP",
        "colab_type": "code",
        "colab": {}
      },
      "cell_type": "code",
      "source": [
        "import numpy as np \n",
        "import matplotlib.pyplot as plt\n",
        "\n",
        "import torch\n",
        "import torch.nn as nn\n",
        "import torch.nn.functional as F\n",
        "from torch import  optim\n",
        "import torchvision.transforms as transforms\n",
        "from torchvision import datasets\n",
        "import pdb"
      ],
      "execution_count": 0,
      "outputs": []
    },
    {
      "metadata": {
        "id": "kCoeLrBp7ivd",
        "colab_type": "code",
        "colab": {}
      },
      "cell_type": "code",
      "source": [
        "%matplotlib inline"
      ],
      "execution_count": 0,
      "outputs": []
    },
    {
      "metadata": {
        "id": "Ki9Cc4-F7mO3",
        "colab_type": "code",
        "colab": {}
      },
      "cell_type": "code",
      "source": [
        "transform = transforms.Compose([transforms.ToTensor(),\n",
        "                                transforms.Normalize((0.1307,), (0.3081,))])\n",
        "\n",
        "train_data = datasets.mnist.FashionMNIST(root='/',download=True,transform=transform)\n",
        "# train_valid_data, train_valid_labels, = data.train_data, data.train_labels\n",
        "# train_data = train_valid_data[:-10000,:,:]\n",
        "# train_labels = train_valid_labels[:-10000]\n",
        "# valid_data = train_valid_data[-10000:,:,:]\n",
        "# valid_labels = train_valid_labels[:-10000:]\n",
        "test_data= datasets.mnist.FashionMNIST('/',False,transform=transform)\n",
        "# test_data, test_labels = test.test_data, test.test_labels"
      ],
      "execution_count": 0,
      "outputs": []
    },
    {
      "metadata": {
        "id": "FK7Prf5g9j7u",
        "colab_type": "code",
        "colab": {}
      },
      "cell_type": "code",
      "source": [
        "batch_size = 64\n",
        "input_size = 28\n",
        "number_iters = 6000\n",
        "hidden_size = 20\n",
        "num_layers = 3\n",
        "output_size = 10\n",
        "num_directions = 1\n",
        "dropout = 0.1\n",
        "num_batch = len(train_data)/batch_size\n",
        "num_epochs = int(number_iters/num_batch)\n",
        "\n",
        "train_iter = torch.utils.data.DataLoader(dataset=train_data, batch_size=batch_size, shuffle=True,num_workers=4)\n",
        "test_iter = torch.utils.data.DataLoader(dataset=test_data, batch_size=batch_size, shuffle=True,num_workers=4)"
      ],
      "execution_count": 0,
      "outputs": []
    },
    {
      "metadata": {
        "id": "JR9TPOEK-csU",
        "colab_type": "code",
        "colab": {
          "base_uri": "https://localhost:8080/",
          "height": 102
        },
        "outputId": "090a6db8-a9b4-44eb-ce62-c8e9e77c98a0"
      },
      "cell_type": "code",
      "source": [
        "class DeepFeedForward(nn.Module):\n",
        "  def __init__(self, input_size, hidden_size, output_size,num_layers=1, num_directions=1, dropout=0.1):\n",
        "    super(DeepFeedForward, self).__init__()\n",
        "    #self.lin = nn.Linear(input_dim, hidden_dim)\n",
        "    self.rnn = nn.RNN(input_size, hidden_size,batch_first = True,num_layers=num_layers, nonlinearity = 'relu')\n",
        "    self.out = nn.Linear(hidden_size,output_size)\n",
        "    self.drop = nn.Dropout(p=dropout)\n",
        "    self.hidden_size = hidden_size\n",
        "    self.num_layers=num_layers\n",
        "    self.num_directions= num_directions\n",
        "    \n",
        "  def forward(self, X):\n",
        "    h_0 = torch.zeros(self.num_layers*self.num_directions, X.size(0),self.hidden_size)\n",
        "    out, hid= self.rnn(X,h_0)\n",
        "    return self.out(out[:,-1,:])\n",
        "    \n",
        "model = DeepFeedForward(input_size,hidden_size,output_size, num_layers, num_directions, dropout)\n",
        "print(model)"
      ],
      "execution_count": 18,
      "outputs": [
        {
          "output_type": "stream",
          "text": [
            "DeepFeedForward(\n",
            "  (rnn): RNN(28, 20, num_layers=3, batch_first=True)\n",
            "  (out): Linear(in_features=20, out_features=10, bias=True)\n",
            "  (drop): Dropout(p=0.1)\n",
            ")\n"
          ],
          "name": "stdout"
        }
      ]
    },
    {
      "metadata": {
        "id": "2VP-7hQ6AROI",
        "colab_type": "code",
        "colab": {}
      },
      "cell_type": "code",
      "source": [
        "loss_fn = nn.CrossEntropyLoss()\n",
        "optimizer = optim.Adam(model.parameters())\n"
      ],
      "execution_count": 0,
      "outputs": []
    },
    {
      "metadata": {
        "id": "OmDN7KythLZ9",
        "colab_type": "code",
        "colab": {
          "base_uri": "https://localhost:8080/",
          "height": 102
        },
        "outputId": "b5ef0e0a-e709-436c-d6af-67197f42217e"
      },
      "cell_type": "code",
      "source": [
        "sequence_length = 28\n",
        "iter = 0\n",
        "for epoch in range(num_epochs):\n",
        "  for data, labels in train_iter:\n",
        "    optimizer.zero_grad()\n",
        "    #pdb.set_trace()\n",
        "    pred = model(data.view(-1,sequence_length,input_size))\n",
        "    loss=loss_fn(pred, labels)\n",
        "    loss.backward()\n",
        "    optimizer.step() \n",
        "    \n",
        "    iter +=1\n",
        "    if iter%1000==0:\n",
        "      #print(loss.data.numpy())\n",
        "      correct_output = 0\n",
        "      number_of_items=0\n",
        "#       pdb.set_trace()\n",
        "      for test_data,test_label in test_iter:\n",
        "        pred_test=model(test_data.view(-1,sequence_length,input_size))\n",
        "        pred_prob_class = torch.max(pred_test.data,1)\n",
        "        number_of_items +=test_label.size(0)\n",
        "        pred_prob, pred_class =pred_prob_class\n",
        "       \n",
        "        correct_output +=(pred_class==test_label).sum()\n",
        "        #pdb.set_trace()\n",
        "        \n",
        "      print(\" Loss = %0.2f Accuracy =%0.3f\"%(loss.data.numpy(),correct_output.data.numpy()*1.0/number_of_items))\n",
        "# fig,ax = plt.subplots(5,5)\n",
        "# for item in pred[:25]:\n",
        "# ax.imshow(item)"
      ],
      "execution_count": 21,
      "outputs": [
        {
          "output_type": "stream",
          "text": [
            " Loss = 0.83 Accuracy =0.781\n",
            " Loss = 0.50 Accuracy =0.800\n",
            " Loss = 0.63 Accuracy =0.806\n",
            " Loss = 0.38 Accuracy =0.821\n",
            " Loss = 0.63 Accuracy =0.821\n"
          ],
          "name": "stdout"
        }
      ]
    },
    {
      "metadata": {
        "id": "wjrkhm3xlDe6",
        "colab_type": "code",
        "colab": {}
      },
      "cell_type": "code",
      "source": [
        "fig,ax = plt.subplots(5,5)\n",
        "for items,labels in test_iter\n",
        "  pred = model(items)\n",
        "  pred_prob_class = torch.max(pred)\n",
        "  for item in pred[:25]:\n",
        "  ax.imshow(item)"
      ],
      "execution_count": 0,
      "outputs": []
    },
    {
      "metadata": {
        "id": "ySpW-bq4TakA",
        "colab_type": "code",
        "colab": {}
      },
      "cell_type": "code",
      "source": [
        "?nn.RNN"
      ],
      "execution_count": 0,
      "outputs": []
    },
    {
      "metadata": {
        "id": "vhXlxlGcTdyA",
        "colab_type": "code",
        "colab": {
          "base_uri": "https://localhost:8080/",
          "height": 164
        },
        "outputId": "f7527ac5-2522-40bd-99b0-a96b70c2474f"
      },
      "cell_type": "code",
      "source": [
        ""
      ],
      "execution_count": 32,
      "outputs": [
        {
          "output_type": "error",
          "ename": "TypeError",
          "evalue": "ignored",
          "traceback": [
            "\u001b[0;31m---------------------------------------------------------------------------\u001b[0m",
            "\u001b[0;31mTypeError\u001b[0m                                 Traceback (most recent call last)",
            "\u001b[0;32m<ipython-input-32-48adc798478a>\u001b[0m in \u001b[0;36m<module>\u001b[0;34m()\u001b[0m\n\u001b[0;32m----> 1\u001b[0;31m \u001b[0mnext\u001b[0m\u001b[0;34m(\u001b[0m\u001b[0miter\u001b[0m\u001b[0;34m(\u001b[0m\u001b[0mtest_iter\u001b[0m\u001b[0;34m)\u001b[0m\u001b[0;34m)\u001b[0m\u001b[0;34m\u001b[0m\u001b[0m\n\u001b[0m",
            "\u001b[0;31mTypeError\u001b[0m: 'int' object is not callable"
          ]
        }
      ]
    }
  ]
}